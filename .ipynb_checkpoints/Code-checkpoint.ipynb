{
 "cells": [
  {
   "cell_type": "markdown",
   "id": "755ec002",
   "metadata": {},
   "source": [
    "\n",
    "\n",
    "# 0. import reviews\n",
    "### my google api has expired so i just show you how to import them, the reviews will be import manuelly "
   ]
  },
  {
   "cell_type": "code",
   "execution_count": null,
   "id": "838941ef",
   "metadata": {},
   "outputs": [],
   "source": [
    "pip install textblob\n",
    "pip install googlemaps\n",
    "pip install spacy\n",
    "pip install nltk\n",
    "pip install transformers "
   ]
  },
  {
   "cell_type": "code",
   "execution_count": null,
   "id": "6225ecf1",
   "metadata": {},
   "outputs": [],
   "source": [
    "# this part is a example\n",
    "# import googlemaps\n",
    "\n",
    "# # Initialize with your API key\n",
    "# gmaps = googlemaps.Client(key='YOUR_API_KEY')\n",
    "\n",
    "# # Place ID for the restaurant\n",
    "# place_id = 'INSERT_PLACE_ID_HERE'\n",
    "\n",
    "# # Fetch the place details\n",
    "# place_result = gmaps.place(place_id=place_id)\n",
    "\n",
    "# # Extract reviews\n",
    "# reviews = place_result['result'].get('reviews', [])\n",
    "\n",
    "# for review in reviews:\n",
    "#     print(review['author_name'], review['rating'], review['text'])"
   ]
  },
  {
   "cell_type": "code",
   "execution_count": 16,
   "id": "2bbd0d3d",
   "metadata": {},
   "outputs": [],
   "source": [
    "reviews = [\n",
    "    \"Cette adresse propose une sélection remarquable de plats indiens authentiques, avec un personnel bienveillant et efficace. Les prix sont compétitifs, l'ambiance conviviale. Une expérience à renouveler pour les amateurs de cuisine indienne.\",\n",
    "    \"Les Kulcha sont très bons! Les autres pas mal aussi.\",\n",
    "    \"La nourriture était très bonne mais le service de la dernière fois était catastrophique, avec un personnel ne parlant pas français, contrairement à une visite précédente.\",\n",
    "    \"Les ingrédients frais font la différence ici avec un service attentif. Agréablement surpris par la qualité de la nourriture et l'accueil.\",\n",
    "    \"Une mauvaise expérience. Tous les plats étaient incroyablement salés, à l'exception du pain nan. Le service principalement en anglais et une ambiance gâchée par une musique trop forte et une grande télé.\",\n",
    "    \"La nourriture est bonne et chaude, le menu diversifié et le personnel courtois. Recommandé pour un mélange d'ambiance 'fast food' et salle à manger traditionnelle.\",\n",
    "    \"La nourriture est intéressante mais ultra piquante, même pour les options 'not spicy'. Le nan est excellent.\",\n",
    "    \"Bonne bouffe, serveur souriant et bon service, malgré un manque de service en français et un temps d'attente long avec peu de clients.\",\n",
    "    \"Le système de son était défectueux, musique très forte, commande incorrecte et excessive attente. La nourriture était brûlée et a fini à la poubelle.\",\n",
    "    \"Les plats étaient délicieux et savoureux, beau choix de pains. La musique un peu forte mais service bilingue avec accueil et au revoir en français.\"\n",
    "]\n",
    "\n",
    "sentiments_humain = [\n",
    "    \"Positive\",  # Review 1 (Ratings: Cuisine 5, Service 5, Ambiance 5)\n",
    "    \"Positive\",  # Review 2 (Ratings: Cuisine 5, Service 4, Ambiance 4)\n",
    "    \"Neutral\",   # Review 3 (Ratings: Cuisine 5, Service 1, Ambiance 3)\n",
    "    \"Positive\",  # Review 4 (Ratings: Cuisine 5, Service 5, Ambiance 4)\n",
    "    \"Negative\",  # Review 5 (Ratings: Cuisine 1, Service 1, Ambiance 2)\n",
    "    \"Positive\",  # Review 6 (No specific ratings but positive feedback)\n",
    "    \"Positive\",  # Review 7 (No specific ratings but feedback implies overall positive despite spicy food)\n",
    "    \"Positive\",  # Review 8 (Ratings: Cuisine 5, Service 4, Ambiance 4)\n",
    "    \"Negative\",  # Review 9 (Ratings: Cuisine 1, Service 1, Ambiance 1)\n",
    "    \"Positive\"   # Review 10 (Ratings: Cuisine 5, Service 4, Ambiance 4)\n",
    "]"
   ]
  },
  {
   "cell_type": "markdown",
   "id": "78bd5a5b",
   "metadata": {},
   "source": [
    "___\n",
    "___\n",
    "\n",
    "# 1. Models\n",
    "\n",
    "textblob\n",
    "nltk"
   ]
  },
  {
   "cell_type": "code",
   "execution_count": 18,
   "id": "e0d37f1d",
   "metadata": {},
   "outputs": [
    {
     "name": "stdout",
     "output_type": "stream",
     "text": [
      "Review: Cette adresse propose une sélection remarquable de plats ind... | Sentiment: Neutral\n",
      "Review: Les Kulcha sont très bons! Les autres pas mal aussi.... | Sentiment: Neutral\n",
      "Review: La nourriture était très bonne mais le service de la dernièr... | Sentiment: Neutral\n",
      "Review: Les ingrédients frais font la différence ici avec un service... | Sentiment: Neutral\n",
      "Review: Une mauvaise expérience. Tous les plats étaient incroyableme... | Sentiment: Neutral\n",
      "Review: La nourriture est bonne et chaude, le menu diversifié et le ... | Sentiment: Positive\n",
      "Review: La nourriture est intéressante mais ultra piquante, même pou... | Sentiment: Positive\n",
      "Review: Bonne bouffe, serveur souriant et bon service, malgré un man... | Sentiment: Neutral\n",
      "Review: Le système de son était défectueux, musique très forte, comm... | Sentiment: Negative\n",
      "Review: Les plats étaient délicieux et savoureux, beau choix de pain... | Sentiment: Neutral\n"
     ]
    }
   ],
   "source": [
    "from textblob import TextBlob\n",
    "\n",
    "# Function to determine sentiment\n",
    "def get_sentiment(text):\n",
    "    analysis = TextBlob(text)\n",
    "    if analysis.sentiment.polarity > 0.1:\n",
    "        return 'Positive'\n",
    "    elif analysis.sentiment.polarity < -0.1:\n",
    "        return 'Negative'\n",
    "    else:\n",
    "        return 'Neutral'\n",
    "\n",
    "# Analyzing each review\n",
    "for review in reviews:\n",
    "    sentiment = get_sentiment(review)\n",
    "    print(f\"Review: {review[:60]}... | Sentiment: {sentiment}\")"
   ]
  },
  {
   "cell_type": "code",
   "execution_count": 19,
   "id": "9457c70e",
   "metadata": {},
   "outputs": [
    {
     "name": "stdout",
     "output_type": "stream",
     "text": [
      "Review: Cette adresse propose une sélection remarquable de plats ind... | Sentiment: Neutral\n",
      "Review: Les Kulcha sont très bons! Les autres pas mal aussi.... | Sentiment: Neutral\n",
      "Review: La nourriture était très bonne mais le service de la dernièr... | Sentiment: Neutral\n",
      "Review: Les ingrédients frais font la différence ici avec un service... | Sentiment: Neutral\n",
      "Review: Une mauvaise expérience. Tous les plats étaient incroyableme... | Sentiment: Negative\n",
      "Review: La nourriture est bonne et chaude, le menu diversifié et le ... | Sentiment: Neutral\n",
      "Review: La nourriture est intéressante mais ultra piquante, même pou... | Sentiment: Positive\n",
      "Review: Bonne bouffe, serveur souriant et bon service, malgré un man... | Sentiment: Neutral\n",
      "Review: Le système de son était défectueux, musique très forte, comm... | Sentiment: Neutral\n",
      "Review: Les plats étaient délicieux et savoureux, beau choix de pain... | Sentiment: Negative\n"
     ]
    },
    {
     "name": "stderr",
     "output_type": "stream",
     "text": [
      "[nltk_data] Downloading package vader_lexicon to\n",
      "[nltk_data]     C:\\Users\\lyon\\AppData\\Roaming\\nltk_data...\n",
      "[nltk_data]   Package vader_lexicon is already up-to-date!\n"
     ]
    }
   ],
   "source": [
    "import nltk\n",
    "from nltk.sentiment import SentimentIntensityAnalyzer\n",
    "\n",
    "# Download the VADER lexicon\n",
    "nltk.download('vader_lexicon')\n",
    "\n",
    "\n",
    "\n",
    "# Initialize the VADER sentiment analyzer\n",
    "sia = SentimentIntensityAnalyzer()\n",
    "\n",
    "# Analyzing each review\n",
    "for review in reviews:\n",
    "    scores = sia.polarity_scores(review)\n",
    "    sentiment = 'Positive' if scores['compound'] > 0.05 else 'Negative' if scores['compound'] < -0.05 else 'Neutral'\n",
    "    print(f\"Review: {review[:60]}... | Sentiment: {sentiment}\")"
   ]
  },
  {
   "cell_type": "code",
   "execution_count": null,
   "id": "087394c5",
   "metadata": {},
   "outputs": [],
   "source": [
    "import spacy\n",
    "from spacytextblob.spacytextblob import SpacyTextBlob\n",
    "\n",
    "nlp = spacy.load('en_core_web_sm')\n",
    "nlp.add_pipe('spacytextblob')\n",
    "\n",
    "for review in reviews:\n",
    "    doc = nlp(review)\n",
    "    sentiment = 'Positive' if doc._.polarity > 0.05 else 'Negative' if doc._.polarity < -0.05 else 'Neutral'\n",
    "    print(f\"Review: {review[:60]}... | Sentiment: {sentiment}\")"
   ]
  },
  {
   "cell_type": "code",
   "execution_count": null,
   "id": "e2a0d506",
   "metadata": {},
   "outputs": [],
   "source": [
    "from transformers import pipeline\n",
    "\n",
    "classifier = pipeline('sentiment-analysis')\n",
    "\n",
    "for review in reviews:\n",
    "    result = classifier(review)\n",
    "    sentiment = result[0]['label']\n",
    "    print(f\"Review: {review[:60]}... | Sentiment: {sentiment}\")"
   ]
  },
  {
   "cell_type": "code",
   "execution_count": null,
   "id": "dece44b3",
   "metadata": {},
   "outputs": [],
   "source": [
    "from flair.models import TextClassifier\n",
    "from flair.data import Sentence\n",
    "\n",
    "classifier = TextClassifier.load('en-sentiment')\n",
    "\n",
    "\n",
    "for review in reviews:\n",
    "    sentence = Sentence(review)\n",
    "    classifier.predict(sentence)\n",
    "    sentiment = sentence.labels[0].value\n",
    "    print(f\"Review: {review[:60]}... | Sentiment: {sentiment}\")"
   ]
  },
  {
   "cell_type": "code",
   "execution_count": null,
   "id": "dc167023",
   "metadata": {},
   "outputs": [],
   "source": [
    "from pycorenlp import StanfordCoreNLP\n",
    "\n",
    "nlp = StanfordCoreNLP('http://localhost:9000')\n",
    "\n",
    "reviews = [\"This restaurant has the best ribs in town. Absolutely loved it!\"]\n",
    "\n",
    "for review in reviews:\n",
    "    result = nlp.annotate(review, properties={'annotators': 'sentiment', 'outputFormat': 'json'})\n",
    "    sentiment = result['sentences'][0]['sentiment']\n",
    "    print(f\"Review: {review[:60]}... | Sentiment: {sentiment}\")"
   ]
  },
  {
   "cell_type": "markdown",
   "id": "4be50ada",
   "metadata": {},
   "source": [
    "___\n",
    "___\n",
    "\n",
    "# 2. Comparison of results"
   ]
  },
  {
   "cell_type": "code",
   "execution_count": null,
   "id": "b2d412da",
   "metadata": {},
   "outputs": [],
   "source": []
  }
 ],
 "metadata": {
  "kernelspec": {
   "display_name": "Python 3 (ipykernel)",
   "language": "python",
   "name": "python3"
  },
  "language_info": {
   "codemirror_mode": {
    "name": "ipython",
    "version": 3
   },
   "file_extension": ".py",
   "mimetype": "text/x-python",
   "name": "python",
   "nbconvert_exporter": "python",
   "pygments_lexer": "ipython3",
   "version": "3.11.5"
  }
 },
 "nbformat": 4,
 "nbformat_minor": 5
}
