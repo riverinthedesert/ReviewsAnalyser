{
 "cells": [
  {
   "cell_type": "markdown",
   "id": "bb1e0636",
   "metadata": {},
   "source": [
    "\n",
    "\n",
    "# 0. Configuration "
   ]
  },
  {
   "cell_type": "code",
   "execution_count": 39,
   "id": "c1808667",
   "metadata": {},
   "outputs": [
    {
     "name": "stdout",
     "output_type": "stream",
     "text": [
      "Requirement already satisfied: textblob in c:\\tool\\anaconda\\lib\\site-packages (0.15.3)\n",
      "Requirement already satisfied: nltk>=3.1 in c:\\tool\\anaconda\\lib\\site-packages (from textblob) (3.8.1)\n",
      "Requirement already satisfied: click in c:\\tool\\anaconda\\lib\\site-packages (from nltk>=3.1->textblob) (8.0.4)\n",
      "Requirement already satisfied: joblib in c:\\tool\\anaconda\\lib\\site-packages (from nltk>=3.1->textblob) (1.2.0)\n",
      "Requirement already satisfied: regex>=2021.8.3 in c:\\tool\\anaconda\\lib\\site-packages (from nltk>=3.1->textblob) (2022.7.9)\n",
      "Requirement already satisfied: tqdm in c:\\tool\\anaconda\\lib\\site-packages (from nltk>=3.1->textblob) (4.65.0)\n",
      "Requirement already satisfied: colorama in c:\\tool\\anaconda\\lib\\site-packages (from click->nltk>=3.1->textblob) (0.4.6)\n"
     ]
    },
    {
     "name": "stderr",
     "output_type": "stream",
     "text": [
      "\n",
      "[notice] A new release of pip is available: 23.3.1 -> 24.0\n",
      "[notice] To update, run: python.exe -m pip install --upgrade pip\n"
     ]
    },
    {
     "name": "stdout",
     "output_type": "stream",
     "text": [
      "Requirement already satisfied: googlemaps in c:\\tool\\anaconda\\lib\\site-packages (4.10.0)\n",
      "Requirement already satisfied: requests<3.0,>=2.20.0 in c:\\tool\\anaconda\\lib\\site-packages (from googlemaps) (2.31.0)\n",
      "Requirement already satisfied: charset-normalizer<4,>=2 in c:\\tool\\anaconda\\lib\\site-packages (from requests<3.0,>=2.20.0->googlemaps) (2.0.4)\n",
      "Requirement already satisfied: idna<4,>=2.5 in c:\\tool\\anaconda\\lib\\site-packages (from requests<3.0,>=2.20.0->googlemaps) (3.4)\n",
      "Requirement already satisfied: urllib3<3,>=1.21.1 in c:\\tool\\anaconda\\lib\\site-packages (from requests<3.0,>=2.20.0->googlemaps) (1.26.16)\n",
      "Requirement already satisfied: certifi>=2017.4.17 in c:\\tool\\anaconda\\lib\\site-packages (from requests<3.0,>=2.20.0->googlemaps) (2023.7.22)\n"
     ]
    },
    {
     "name": "stderr",
     "output_type": "stream",
     "text": [
      "\n",
      "[notice] A new release of pip is available: 23.3.1 -> 24.0\n",
      "[notice] To update, run: python.exe -m pip install --upgrade pip\n"
     ]
    },
    {
     "name": "stdout",
     "output_type": "stream",
     "text": [
      "Requirement already satisfied: spacy in c:\\tool\\anaconda\\lib\\site-packages (3.7.4)\n",
      "Requirement already satisfied: spacy-legacy<3.1.0,>=3.0.11 in c:\\tool\\anaconda\\lib\\site-packages (from spacy) (3.0.12)\n",
      "Requirement already satisfied: spacy-loggers<2.0.0,>=1.0.0 in c:\\tool\\anaconda\\lib\\site-packages (from spacy) (1.0.5)\n",
      "Requirement already satisfied: murmurhash<1.1.0,>=0.28.0 in c:\\tool\\anaconda\\lib\\site-packages (from spacy) (1.0.10)\n",
      "Requirement already satisfied: cymem<2.1.0,>=2.0.2 in c:\\tool\\anaconda\\lib\\site-packages (from spacy) (2.0.8)\n",
      "Requirement already satisfied: preshed<3.1.0,>=3.0.2 in c:\\tool\\anaconda\\lib\\site-packages (from spacy) (3.0.9)\n",
      "Requirement already satisfied: thinc<8.3.0,>=8.2.2 in c:\\tool\\anaconda\\lib\\site-packages (from spacy) (8.2.3)\n",
      "Requirement already satisfied: wasabi<1.2.0,>=0.9.1 in c:\\tool\\anaconda\\lib\\site-packages (from spacy) (1.1.2)\n",
      "Requirement already satisfied: srsly<3.0.0,>=2.4.3 in c:\\tool\\anaconda\\lib\\site-packages (from spacy) (2.4.8)\n",
      "Requirement already satisfied: catalogue<2.1.0,>=2.0.6 in c:\\tool\\anaconda\\lib\\site-packages (from spacy) (2.0.10)\n",
      "Requirement already satisfied: weasel<0.4.0,>=0.1.0 in c:\\tool\\anaconda\\lib\\site-packages (from spacy) (0.3.4)\n",
      "Requirement already satisfied: typer<0.10.0,>=0.3.0 in c:\\tool\\anaconda\\lib\\site-packages (from spacy) (0.9.4)\n",
      "Requirement already satisfied: smart-open<7.0.0,>=5.2.1 in c:\\tool\\anaconda\\lib\\site-packages (from spacy) (5.2.1)\n",
      "Requirement already satisfied: tqdm<5.0.0,>=4.38.0 in c:\\tool\\anaconda\\lib\\site-packages (from spacy) (4.65.0)\n",
      "Requirement already satisfied: requests<3.0.0,>=2.13.0 in c:\\tool\\anaconda\\lib\\site-packages (from spacy) (2.31.0)\n",
      "Requirement already satisfied: pydantic!=1.8,!=1.8.1,<3.0.0,>=1.7.4 in c:\\tool\\anaconda\\lib\\site-packages (from spacy) (1.10.8)\n",
      "Requirement already satisfied: jinja2 in c:\\tool\\anaconda\\lib\\site-packages (from spacy) (3.1.2)\n",
      "Requirement already satisfied: setuptools in c:\\tool\\anaconda\\lib\\site-packages (from spacy) (68.0.0)\n",
      "Requirement already satisfied: packaging>=20.0 in c:\\tool\\anaconda\\lib\\site-packages (from spacy) (23.1)\n",
      "Requirement already satisfied: langcodes<4.0.0,>=3.2.0 in c:\\tool\\anaconda\\lib\\site-packages (from spacy) (3.3.0)\n",
      "Requirement already satisfied: numpy>=1.19.0 in c:\\tool\\anaconda\\lib\\site-packages (from spacy) (1.24.3)\n",
      "Requirement already satisfied: typing-extensions>=4.2.0 in c:\\tool\\anaconda\\lib\\site-packages (from pydantic!=1.8,!=1.8.1,<3.0.0,>=1.7.4->spacy) (4.11.0)\n",
      "Requirement already satisfied: charset-normalizer<4,>=2 in c:\\tool\\anaconda\\lib\\site-packages (from requests<3.0.0,>=2.13.0->spacy) (2.0.4)\n",
      "Requirement already satisfied: idna<4,>=2.5 in c:\\tool\\anaconda\\lib\\site-packages (from requests<3.0.0,>=2.13.0->spacy) (3.4)\n",
      "Requirement already satisfied: urllib3<3,>=1.21.1 in c:\\tool\\anaconda\\lib\\site-packages (from requests<3.0.0,>=2.13.0->spacy) (1.26.16)\n",
      "Requirement already satisfied: certifi>=2017.4.17 in c:\\tool\\anaconda\\lib\\site-packages (from requests<3.0.0,>=2.13.0->spacy) (2023.7.22)\n",
      "Requirement already satisfied: blis<0.8.0,>=0.7.8 in c:\\tool\\anaconda\\lib\\site-packages (from thinc<8.3.0,>=8.2.2->spacy) (0.7.11)\n",
      "Requirement already satisfied: confection<1.0.0,>=0.0.1 in c:\\tool\\anaconda\\lib\\site-packages (from thinc<8.3.0,>=8.2.2->spacy) (0.1.4)\n",
      "Requirement already satisfied: colorama in c:\\tool\\anaconda\\lib\\site-packages (from tqdm<5.0.0,>=4.38.0->spacy) (0.4.6)\n",
      "Requirement already satisfied: click<9.0.0,>=7.1.1 in c:\\tool\\anaconda\\lib\\site-packages (from typer<0.10.0,>=0.3.0->spacy) (8.0.4)\n",
      "Requirement already satisfied: cloudpathlib<0.17.0,>=0.7.0 in c:\\tool\\anaconda\\lib\\site-packages (from weasel<0.4.0,>=0.1.0->spacy) (0.16.0)\n",
      "Requirement already satisfied: MarkupSafe>=2.0 in c:\\tool\\anaconda\\lib\\site-packages (from jinja2->spacy) (2.1.1)\n"
     ]
    },
    {
     "name": "stderr",
     "output_type": "stream",
     "text": [
      "\n",
      "[notice] A new release of pip is available: 23.3.1 -> 24.0\n",
      "[notice] To update, run: python.exe -m pip install --upgrade pip\n"
     ]
    },
    {
     "name": "stdout",
     "output_type": "stream",
     "text": [
      "Requirement already satisfied: nltk in c:\\tool\\anaconda\\lib\\site-packages (3.8.1)\n",
      "Requirement already satisfied: click in c:\\tool\\anaconda\\lib\\site-packages (from nltk) (8.0.4)\n",
      "Requirement already satisfied: joblib in c:\\tool\\anaconda\\lib\\site-packages (from nltk) (1.2.0)\n",
      "Requirement already satisfied: regex>=2021.8.3 in c:\\tool\\anaconda\\lib\\site-packages (from nltk) (2022.7.9)\n",
      "Requirement already satisfied: tqdm in c:\\tool\\anaconda\\lib\\site-packages (from nltk) (4.65.0)\n",
      "Requirement already satisfied: colorama in c:\\tool\\anaconda\\lib\\site-packages (from click->nltk) (0.4.6)\n"
     ]
    },
    {
     "name": "stderr",
     "output_type": "stream",
     "text": [
      "\n",
      "[notice] A new release of pip is available: 23.3.1 -> 24.0\n",
      "[notice] To update, run: python.exe -m pip install --upgrade pip\n"
     ]
    },
    {
     "name": "stdout",
     "output_type": "stream",
     "text": [
      "Requirement already satisfied: transformers in c:\\tool\\anaconda\\lib\\site-packages (4.32.1)\n",
      "Requirement already satisfied: filelock in c:\\tool\\anaconda\\lib\\site-packages (from transformers) (3.9.0)\n",
      "Requirement already satisfied: huggingface-hub<1.0,>=0.15.1 in c:\\tool\\anaconda\\lib\\site-packages (from transformers) (0.15.1)\n",
      "Requirement already satisfied: numpy>=1.17 in c:\\tool\\anaconda\\lib\\site-packages (from transformers) (1.24.3)\n",
      "Requirement already satisfied: packaging>=20.0 in c:\\tool\\anaconda\\lib\\site-packages (from transformers) (23.1)\n",
      "Requirement already satisfied: pyyaml>=5.1 in c:\\tool\\anaconda\\lib\\site-packages (from transformers) (6.0)\n",
      "Requirement already satisfied: regex!=2019.12.17 in c:\\tool\\anaconda\\lib\\site-packages (from transformers) (2022.7.9)\n",
      "Requirement already satisfied: requests in c:\\tool\\anaconda\\lib\\site-packages (from transformers) (2.31.0)\n",
      "Requirement already satisfied: tokenizers!=0.11.3,<0.14,>=0.11.1 in c:\\tool\\anaconda\\lib\\site-packages (from transformers) (0.13.2)\n",
      "Requirement already satisfied: safetensors>=0.3.1 in c:\\tool\\anaconda\\lib\\site-packages (from transformers) (0.3.2)\n",
      "Requirement already satisfied: tqdm>=4.27 in c:\\tool\\anaconda\\lib\\site-packages (from transformers) (4.65.0)\n",
      "Requirement already satisfied: fsspec in c:\\tool\\anaconda\\lib\\site-packages (from huggingface-hub<1.0,>=0.15.1->transformers) (2023.4.0)\n",
      "Requirement already satisfied: typing-extensions>=3.7.4.3 in c:\\tool\\anaconda\\lib\\site-packages (from huggingface-hub<1.0,>=0.15.1->transformers) (4.11.0)\n",
      "Requirement already satisfied: colorama in c:\\tool\\anaconda\\lib\\site-packages (from tqdm>=4.27->transformers) (0.4.6)\n",
      "Requirement already satisfied: charset-normalizer<4,>=2 in c:\\tool\\anaconda\\lib\\site-packages (from requests->transformers) (2.0.4)\n",
      "Requirement already satisfied: idna<4,>=2.5 in c:\\tool\\anaconda\\lib\\site-packages (from requests->transformers) (3.4)\n",
      "Requirement already satisfied: urllib3<3,>=1.21.1 in c:\\tool\\anaconda\\lib\\site-packages (from requests->transformers) (1.26.16)\n",
      "Requirement already satisfied: certifi>=2017.4.17 in c:\\tool\\anaconda\\lib\\site-packages (from requests->transformers) (2023.7.22)\n"
     ]
    },
    {
     "name": "stderr",
     "output_type": "stream",
     "text": [
      "\n",
      "[notice] A new release of pip is available: 23.3.1 -> 24.0\n",
      "[notice] To update, run: python.exe -m pip install --upgrade pip\n"
     ]
    },
    {
     "name": "stdout",
     "output_type": "stream",
     "text": [
      "Requirement already satisfied: pycorenlp in c:\\tool\\anaconda\\lib\\site-packages (0.3.0)\n",
      "Requirement already satisfied: requests in c:\\tool\\anaconda\\lib\\site-packages (from pycorenlp) (2.31.0)\n",
      "Requirement already satisfied: charset-normalizer<4,>=2 in c:\\tool\\anaconda\\lib\\site-packages (from requests->pycorenlp) (2.0.4)\n",
      "Requirement already satisfied: idna<4,>=2.5 in c:\\tool\\anaconda\\lib\\site-packages (from requests->pycorenlp) (3.4)\n",
      "Requirement already satisfied: urllib3<3,>=1.21.1 in c:\\tool\\anaconda\\lib\\site-packages (from requests->pycorenlp) (1.26.16)\n",
      "Requirement already satisfied: certifi>=2017.4.17 in c:\\tool\\anaconda\\lib\\site-packages (from requests->pycorenlp) (2023.7.22)\n"
     ]
    },
    {
     "name": "stderr",
     "output_type": "stream",
     "text": [
      "\n",
      "[notice] A new release of pip is available: 23.3.1 -> 24.0\n",
      "[notice] To update, run: python.exe -m pip install --upgrade pip\n"
     ]
    },
    {
     "name": "stdout",
     "output_type": "stream",
     "text": [
      "Requirement already satisfied: flair in c:\\tool\\anaconda\\lib\\site-packages (0.13.1)\n",
      "Requirement already satisfied: boto3>=1.20.27 in c:\\tool\\anaconda\\lib\\site-packages (from flair) (1.34.84)\n",
      "Requirement already satisfied: bpemb>=0.3.2 in c:\\tool\\anaconda\\lib\\site-packages (from flair) (0.3.5)\n",
      "Requirement already satisfied: conllu>=4.0 in c:\\tool\\anaconda\\lib\\site-packages (from flair) (4.5.3)\n",
      "Requirement already satisfied: deprecated>=1.2.13 in c:\\tool\\anaconda\\lib\\site-packages (from flair) (1.2.14)\n",
      "Requirement already satisfied: ftfy>=6.1.0 in c:\\tool\\anaconda\\lib\\site-packages (from flair) (6.2.0)\n",
      "Requirement already satisfied: gdown>=4.4.0 in c:\\tool\\anaconda\\lib\\site-packages (from flair) (5.1.0)\n",
      "Requirement already satisfied: gensim>=4.2.0 in c:\\tool\\anaconda\\lib\\site-packages (from flair) (4.3.0)\n",
      "Requirement already satisfied: huggingface-hub>=0.10.0 in c:\\tool\\anaconda\\lib\\site-packages (from flair) (0.15.1)\n",
      "Requirement already satisfied: janome>=0.4.2 in c:\\tool\\anaconda\\lib\\site-packages (from flair) (0.5.0)\n",
      "Requirement already satisfied: langdetect>=1.0.9 in c:\\tool\\anaconda\\lib\\site-packages (from flair) (1.0.9)\n",
      "Requirement already satisfied: lxml>=4.8.0 in c:\\tool\\anaconda\\lib\\site-packages (from flair) (4.9.3)\n",
      "Requirement already satisfied: matplotlib>=2.2.3 in c:\\tool\\anaconda\\lib\\site-packages (from flair) (3.7.2)\n",
      "Requirement already satisfied: more-itertools>=8.13.0 in c:\\tool\\anaconda\\lib\\site-packages (from flair) (10.2.0)\n",
      "Requirement already satisfied: mpld3>=0.3 in c:\\tool\\anaconda\\lib\\site-packages (from flair) (0.5.10)\n",
      "Requirement already satisfied: pptree>=3.1 in c:\\tool\\anaconda\\lib\\site-packages (from flair) (3.1)\n",
      "Requirement already satisfied: python-dateutil>=2.8.2 in c:\\tool\\anaconda\\lib\\site-packages (from flair) (2.8.2)\n",
      "Requirement already satisfied: pytorch-revgrad>=0.2.0 in c:\\tool\\anaconda\\lib\\site-packages (from flair) (0.2.0)\n",
      "Requirement already satisfied: regex>=2022.1.18 in c:\\tool\\anaconda\\lib\\site-packages (from flair) (2022.7.9)\n",
      "Requirement already satisfied: scikit-learn>=1.0.2 in c:\\tool\\anaconda\\lib\\site-packages (from flair) (1.3.0)\n",
      "Requirement already satisfied: segtok>=1.5.11 in c:\\tool\\anaconda\\lib\\site-packages (from flair) (1.5.11)\n",
      "Requirement already satisfied: sqlitedict>=2.0.0 in c:\\tool\\anaconda\\lib\\site-packages (from flair) (2.1.0)\n",
      "Requirement already satisfied: tabulate>=0.8.10 in c:\\tool\\anaconda\\lib\\site-packages (from flair) (0.8.10)\n",
      "Requirement already satisfied: torch!=1.8,>=1.5.0 in c:\\tool\\anaconda\\lib\\site-packages (from flair) (2.2.2)\n",
      "Requirement already satisfied: tqdm>=4.63.0 in c:\\tool\\anaconda\\lib\\site-packages (from flair) (4.65.0)\n",
      "Requirement already satisfied: transformer-smaller-training-vocab>=0.2.3 in c:\\tool\\anaconda\\lib\\site-packages (from flair) (0.4.0)\n",
      "Requirement already satisfied: transformers<5.0.0,>=4.18.0 in c:\\tool\\anaconda\\lib\\site-packages (from transformers[sentencepiece]<5.0.0,>=4.18.0->flair) (4.32.1)\n",
      "Requirement already satisfied: urllib3<2.0.0,>=1.0.0 in c:\\tool\\anaconda\\lib\\site-packages (from flair) (1.26.16)\n",
      "Requirement already satisfied: wikipedia-api>=0.5.7 in c:\\tool\\anaconda\\lib\\site-packages (from flair) (0.6.0)\n",
      "Requirement already satisfied: semver<4.0.0,>=3.0.0 in c:\\tool\\anaconda\\lib\\site-packages (from flair) (3.0.2)\n",
      "Requirement already satisfied: botocore<1.35.0,>=1.34.84 in c:\\tool\\anaconda\\lib\\site-packages (from boto3>=1.20.27->flair) (1.34.84)\n",
      "Requirement already satisfied: jmespath<2.0.0,>=0.7.1 in c:\\tool\\anaconda\\lib\\site-packages (from boto3>=1.20.27->flair) (0.10.0)\n",
      "Requirement already satisfied: s3transfer<0.11.0,>=0.10.0 in c:\\tool\\anaconda\\lib\\site-packages (from boto3>=1.20.27->flair) (0.10.1)\n",
      "Requirement already satisfied: numpy in c:\\tool\\anaconda\\lib\\site-packages (from bpemb>=0.3.2->flair) (1.24.3)\n",
      "Requirement already satisfied: requests in c:\\tool\\anaconda\\lib\\site-packages (from bpemb>=0.3.2->flair) (2.31.0)\n",
      "Requirement already satisfied: sentencepiece in c:\\tool\\anaconda\\lib\\site-packages (from bpemb>=0.3.2->flair) (0.2.0)\n",
      "Requirement already satisfied: wrapt<2,>=1.10 in c:\\tool\\anaconda\\lib\\site-packages (from deprecated>=1.2.13->flair) (1.14.1)\n",
      "Requirement already satisfied: wcwidth<0.3.0,>=0.2.12 in c:\\tool\\anaconda\\lib\\site-packages (from ftfy>=6.1.0->flair) (0.2.13)\n",
      "Requirement already satisfied: beautifulsoup4 in c:\\tool\\anaconda\\lib\\site-packages (from gdown>=4.4.0->flair) (4.12.2)\n",
      "Requirement already satisfied: filelock in c:\\tool\\anaconda\\lib\\site-packages (from gdown>=4.4.0->flair) (3.9.0)\n",
      "Requirement already satisfied: scipy>=1.7.0 in c:\\tool\\anaconda\\lib\\site-packages (from gensim>=4.2.0->flair) (1.11.1)\n",
      "Requirement already satisfied: smart-open>=1.8.1 in c:\\tool\\anaconda\\lib\\site-packages (from gensim>=4.2.0->flair) (5.2.1)\n",
      "Requirement already satisfied: FuzzyTM>=0.4.0 in c:\\tool\\anaconda\\lib\\site-packages (from gensim>=4.2.0->flair) (2.0.5)\n",
      "Requirement already satisfied: fsspec in c:\\tool\\anaconda\\lib\\site-packages (from huggingface-hub>=0.10.0->flair) (2023.4.0)\n",
      "Requirement already satisfied: pyyaml>=5.1 in c:\\tool\\anaconda\\lib\\site-packages (from huggingface-hub>=0.10.0->flair) (6.0)\n",
      "Requirement already satisfied: typing-extensions>=3.7.4.3 in c:\\tool\\anaconda\\lib\\site-packages (from huggingface-hub>=0.10.0->flair) (4.11.0)\n",
      "Requirement already satisfied: packaging>=20.9 in c:\\tool\\anaconda\\lib\\site-packages (from huggingface-hub>=0.10.0->flair) (23.1)\n",
      "Requirement already satisfied: six in c:\\tool\\anaconda\\lib\\site-packages (from langdetect>=1.0.9->flair) (1.16.0)\n",
      "Requirement already satisfied: contourpy>=1.0.1 in c:\\tool\\anaconda\\lib\\site-packages (from matplotlib>=2.2.3->flair) (1.0.5)\n",
      "Requirement already satisfied: cycler>=0.10 in c:\\tool\\anaconda\\lib\\site-packages (from matplotlib>=2.2.3->flair) (0.11.0)\n",
      "Requirement already satisfied: fonttools>=4.22.0 in c:\\tool\\anaconda\\lib\\site-packages (from matplotlib>=2.2.3->flair) (4.25.0)\n",
      "Requirement already satisfied: kiwisolver>=1.0.1 in c:\\tool\\anaconda\\lib\\site-packages (from matplotlib>=2.2.3->flair) (1.4.4)\n",
      "Requirement already satisfied: pillow>=6.2.0 in c:\\tool\\anaconda\\lib\\site-packages (from matplotlib>=2.2.3->flair) (9.4.0)\n",
      "Requirement already satisfied: pyparsing<3.1,>=2.3.1 in c:\\tool\\anaconda\\lib\\site-packages (from matplotlib>=2.2.3->flair) (3.0.9)\n",
      "Requirement already satisfied: jinja2 in c:\\tool\\anaconda\\lib\\site-packages (from mpld3>=0.3->flair) (3.1.2)\n",
      "Requirement already satisfied: joblib>=1.1.1 in c:\\tool\\anaconda\\lib\\site-packages (from scikit-learn>=1.0.2->flair) (1.2.0)\n",
      "Requirement already satisfied: threadpoolctl>=2.0.0 in c:\\tool\\anaconda\\lib\\site-packages (from scikit-learn>=1.0.2->flair) (2.2.0)\n",
      "Requirement already satisfied: sympy in c:\\tool\\anaconda\\lib\\site-packages (from torch!=1.8,>=1.5.0->flair) (1.11.1)\n",
      "Requirement already satisfied: networkx in c:\\tool\\anaconda\\lib\\site-packages (from torch!=1.8,>=1.5.0->flair) (3.1)\n",
      "Requirement already satisfied: colorama in c:\\tool\\anaconda\\lib\\site-packages (from tqdm>=4.63.0->flair) (0.4.6)\n",
      "Requirement already satisfied: tokenizers!=0.11.3,<0.14,>=0.11.1 in c:\\tool\\anaconda\\lib\\site-packages (from transformers<5.0.0,>=4.18.0->transformers[sentencepiece]<5.0.0,>=4.18.0->flair) (0.13.2)\n",
      "Requirement already satisfied: safetensors>=0.3.1 in c:\\tool\\anaconda\\lib\\site-packages (from transformers<5.0.0,>=4.18.0->transformers[sentencepiece]<5.0.0,>=4.18.0->flair) (0.3.2)\n",
      "Requirement already satisfied: protobuf in c:\\tool\\anaconda\\lib\\site-packages (from transformers[sentencepiece]<5.0.0,>=4.18.0->flair) (5.26.1)\n",
      "Requirement already satisfied: pandas in c:\\tool\\anaconda\\lib\\site-packages (from FuzzyTM>=0.4.0->gensim>=4.2.0->flair) (2.0.3)\n",
      "Requirement already satisfied: pyfume in c:\\tool\\anaconda\\lib\\site-packages (from FuzzyTM>=0.4.0->gensim>=4.2.0->flair) (0.3.1)\n",
      "Requirement already satisfied: accelerate>=0.20.3 in c:\\tool\\anaconda\\lib\\site-packages (from transformers[sentencepiece,torch]<5.0,>=4.1->transformer-smaller-training-vocab>=0.2.3->flair) (0.29.2)\n",
      "Requirement already satisfied: soupsieve>1.2 in c:\\tool\\anaconda\\lib\\site-packages (from beautifulsoup4->gdown>=4.4.0->flair) (2.4)\n",
      "Requirement already satisfied: MarkupSafe>=2.0 in c:\\tool\\anaconda\\lib\\site-packages (from jinja2->mpld3>=0.3->flair) (2.1.1)\n",
      "Requirement already satisfied: charset-normalizer<4,>=2 in c:\\tool\\anaconda\\lib\\site-packages (from requests->bpemb>=0.3.2->flair) (2.0.4)\n",
      "Requirement already satisfied: idna<4,>=2.5 in c:\\tool\\anaconda\\lib\\site-packages (from requests->bpemb>=0.3.2->flair) (3.4)\n",
      "Requirement already satisfied: certifi>=2017.4.17 in c:\\tool\\anaconda\\lib\\site-packages (from requests->bpemb>=0.3.2->flair) (2023.7.22)\n",
      "Requirement already satisfied: PySocks!=1.5.7,>=1.5.6 in c:\\tool\\anaconda\\lib\\site-packages (from requests[socks]->gdown>=4.4.0->flair) (1.7.1)\n",
      "Requirement already satisfied: mpmath>=0.19 in c:\\tool\\anaconda\\lib\\site-packages (from sympy->torch!=1.8,>=1.5.0->flair) (1.3.0)\n",
      "Requirement already satisfied: psutil in c:\\tool\\anaconda\\lib\\site-packages (from accelerate>=0.20.3->transformers[sentencepiece,torch]<5.0,>=4.1->transformer-smaller-training-vocab>=0.2.3->flair) (5.9.0)\n",
      "Requirement already satisfied: pytz>=2020.1 in c:\\tool\\anaconda\\lib\\site-packages (from pandas->FuzzyTM>=0.4.0->gensim>=4.2.0->flair) (2023.3.post1)\n",
      "Requirement already satisfied: tzdata>=2022.1 in c:\\tool\\anaconda\\lib\\site-packages (from pandas->FuzzyTM>=0.4.0->gensim>=4.2.0->flair) (2023.3)\n",
      "Requirement already satisfied: simpful in c:\\tool\\anaconda\\lib\\site-packages (from pyfume->FuzzyTM>=0.4.0->gensim>=4.2.0->flair) (2.12.0)\n",
      "Requirement already satisfied: fst-pso in c:\\tool\\anaconda\\lib\\site-packages (from pyfume->FuzzyTM>=0.4.0->gensim>=4.2.0->flair) (1.8.1)\n",
      "Requirement already satisfied: miniful in c:\\tool\\anaconda\\lib\\site-packages (from fst-pso->pyfume->FuzzyTM>=0.4.0->gensim>=4.2.0->flair) (0.0.6)\n"
     ]
    },
    {
     "name": "stderr",
     "output_type": "stream",
     "text": [
      "\n",
      "[notice] A new release of pip is available: 23.3.1 -> 24.0\n",
      "[notice] To update, run: python.exe -m pip install --upgrade pip\n"
     ]
    },
    {
     "name": "stdout",
     "output_type": "stream",
     "text": [
      "Requirement already satisfied: torch in c:\\tool\\anaconda\\lib\\site-packages (2.2.2)\n",
      "Requirement already satisfied: torchvision in c:\\tool\\anaconda\\lib\\site-packages (0.17.2)\n",
      "Requirement already satisfied: filelock in c:\\tool\\anaconda\\lib\\site-packages (from torch) (3.9.0)\n",
      "Requirement already satisfied: typing-extensions>=4.8.0 in c:\\tool\\anaconda\\lib\\site-packages (from torch) (4.11.0)\n",
      "Requirement already satisfied: sympy in c:\\tool\\anaconda\\lib\\site-packages (from torch) (1.11.1)\n",
      "Requirement already satisfied: networkx in c:\\tool\\anaconda\\lib\\site-packages (from torch) (3.1)\n",
      "Requirement already satisfied: jinja2 in c:\\tool\\anaconda\\lib\\site-packages (from torch) (3.1.2)\n",
      "Requirement already satisfied: fsspec in c:\\tool\\anaconda\\lib\\site-packages (from torch) (2023.4.0)\n",
      "Requirement already satisfied: numpy in c:\\tool\\anaconda\\lib\\site-packages (from torchvision) (1.24.3)\n",
      "Requirement already satisfied: pillow!=8.3.*,>=5.3.0 in c:\\tool\\anaconda\\lib\\site-packages (from torchvision) (9.4.0)\n",
      "Requirement already satisfied: MarkupSafe>=2.0 in c:\\tool\\anaconda\\lib\\site-packages (from jinja2->torch) (2.1.1)\n",
      "Requirement already satisfied: mpmath>=0.19 in c:\\tool\\anaconda\\lib\\site-packages (from sympy->torch) (1.3.0)\n"
     ]
    },
    {
     "name": "stderr",
     "output_type": "stream",
     "text": [
      "\n",
      "[notice] A new release of pip is available: 23.3.1 -> 24.0\n",
      "[notice] To update, run: python.exe -m pip install --upgrade pip\n"
     ]
    },
    {
     "name": "stdout",
     "output_type": "stream",
     "text": [
      "Requirement already satisfied: torch in c:\\tool\\anaconda\\lib\\site-packages (2.2.2)\n",
      "Requirement already satisfied: spacytextblob in c:\\tool\\anaconda\\lib\\site-packages (4.0.0)\n",
      "Requirement already satisfied: filelock in c:\\tool\\anaconda\\lib\\site-packages (from torch) (3.9.0)\n",
      "Requirement already satisfied: typing-extensions>=4.8.0 in c:\\tool\\anaconda\\lib\\site-packages (from torch) (4.11.0)\n",
      "Requirement already satisfied: sympy in c:\\tool\\anaconda\\lib\\site-packages (from torch) (1.11.1)\n",
      "Requirement already satisfied: networkx in c:\\tool\\anaconda\\lib\\site-packages (from torch) (3.1)\n",
      "Requirement already satisfied: jinja2 in c:\\tool\\anaconda\\lib\\site-packages (from torch) (3.1.2)\n",
      "Requirement already satisfied: fsspec in c:\\tool\\anaconda\\lib\\site-packages (from torch) (2023.4.0)\n",
      "Requirement already satisfied: spacy<4.0,>=3.0 in c:\\tool\\anaconda\\lib\\site-packages (from spacytextblob) (3.7.4)\n",
      "Requirement already satisfied: textblob<0.16.0,>=0.15.3 in c:\\tool\\anaconda\\lib\\site-packages (from spacytextblob) (0.15.3)\n",
      "Requirement already satisfied: spacy-legacy<3.1.0,>=3.0.11 in c:\\tool\\anaconda\\lib\\site-packages (from spacy<4.0,>=3.0->spacytextblob) (3.0.12)\n",
      "Requirement already satisfied: spacy-loggers<2.0.0,>=1.0.0 in c:\\tool\\anaconda\\lib\\site-packages (from spacy<4.0,>=3.0->spacytextblob) (1.0.5)\n",
      "Requirement already satisfied: murmurhash<1.1.0,>=0.28.0 in c:\\tool\\anaconda\\lib\\site-packages (from spacy<4.0,>=3.0->spacytextblob) (1.0.10)\n",
      "Requirement already satisfied: cymem<2.1.0,>=2.0.2 in c:\\tool\\anaconda\\lib\\site-packages (from spacy<4.0,>=3.0->spacytextblob) (2.0.8)\n",
      "Requirement already satisfied: preshed<3.1.0,>=3.0.2 in c:\\tool\\anaconda\\lib\\site-packages (from spacy<4.0,>=3.0->spacytextblob) (3.0.9)\n",
      "Requirement already satisfied: thinc<8.3.0,>=8.2.2 in c:\\tool\\anaconda\\lib\\site-packages (from spacy<4.0,>=3.0->spacytextblob) (8.2.3)\n",
      "Requirement already satisfied: wasabi<1.2.0,>=0.9.1 in c:\\tool\\anaconda\\lib\\site-packages (from spacy<4.0,>=3.0->spacytextblob) (1.1.2)\n",
      "Requirement already satisfied: srsly<3.0.0,>=2.4.3 in c:\\tool\\anaconda\\lib\\site-packages (from spacy<4.0,>=3.0->spacytextblob) (2.4.8)\n",
      "Requirement already satisfied: catalogue<2.1.0,>=2.0.6 in c:\\tool\\anaconda\\lib\\site-packages (from spacy<4.0,>=3.0->spacytextblob) (2.0.10)\n",
      "Requirement already satisfied: weasel<0.4.0,>=0.1.0 in c:\\tool\\anaconda\\lib\\site-packages (from spacy<4.0,>=3.0->spacytextblob) (0.3.4)\n",
      "Requirement already satisfied: typer<0.10.0,>=0.3.0 in c:\\tool\\anaconda\\lib\\site-packages (from spacy<4.0,>=3.0->spacytextblob) (0.9.4)\n",
      "Requirement already satisfied: smart-open<7.0.0,>=5.2.1 in c:\\tool\\anaconda\\lib\\site-packages (from spacy<4.0,>=3.0->spacytextblob) (5.2.1)\n",
      "Requirement already satisfied: tqdm<5.0.0,>=4.38.0 in c:\\tool\\anaconda\\lib\\site-packages (from spacy<4.0,>=3.0->spacytextblob) (4.65.0)\n",
      "Requirement already satisfied: requests<3.0.0,>=2.13.0 in c:\\tool\\anaconda\\lib\\site-packages (from spacy<4.0,>=3.0->spacytextblob) (2.31.0)\n",
      "Requirement already satisfied: pydantic!=1.8,!=1.8.1,<3.0.0,>=1.7.4 in c:\\tool\\anaconda\\lib\\site-packages (from spacy<4.0,>=3.0->spacytextblob) (1.10.8)\n",
      "Requirement already satisfied: setuptools in c:\\tool\\anaconda\\lib\\site-packages (from spacy<4.0,>=3.0->spacytextblob) (68.0.0)\n",
      "Requirement already satisfied: packaging>=20.0 in c:\\tool\\anaconda\\lib\\site-packages (from spacy<4.0,>=3.0->spacytextblob) (23.1)\n",
      "Requirement already satisfied: langcodes<4.0.0,>=3.2.0 in c:\\tool\\anaconda\\lib\\site-packages (from spacy<4.0,>=3.0->spacytextblob) (3.3.0)\n",
      "Requirement already satisfied: numpy>=1.19.0 in c:\\tool\\anaconda\\lib\\site-packages (from spacy<4.0,>=3.0->spacytextblob) (1.24.3)\n",
      "Requirement already satisfied: nltk>=3.1 in c:\\tool\\anaconda\\lib\\site-packages (from textblob<0.16.0,>=0.15.3->spacytextblob) (3.8.1)\n",
      "Requirement already satisfied: MarkupSafe>=2.0 in c:\\tool\\anaconda\\lib\\site-packages (from jinja2->torch) (2.1.1)\n",
      "Requirement already satisfied: mpmath>=0.19 in c:\\tool\\anaconda\\lib\\site-packages (from sympy->torch) (1.3.0)\n",
      "Requirement already satisfied: click in c:\\tool\\anaconda\\lib\\site-packages (from nltk>=3.1->textblob<0.16.0,>=0.15.3->spacytextblob) (8.0.4)\n",
      "Requirement already satisfied: joblib in c:\\tool\\anaconda\\lib\\site-packages (from nltk>=3.1->textblob<0.16.0,>=0.15.3->spacytextblob) (1.2.0)\n",
      "Requirement already satisfied: regex>=2021.8.3 in c:\\tool\\anaconda\\lib\\site-packages (from nltk>=3.1->textblob<0.16.0,>=0.15.3->spacytextblob) (2022.7.9)\n",
      "Requirement already satisfied: charset-normalizer<4,>=2 in c:\\tool\\anaconda\\lib\\site-packages (from requests<3.0.0,>=2.13.0->spacy<4.0,>=3.0->spacytextblob) (2.0.4)\n",
      "Requirement already satisfied: idna<4,>=2.5 in c:\\tool\\anaconda\\lib\\site-packages (from requests<3.0.0,>=2.13.0->spacy<4.0,>=3.0->spacytextblob) (3.4)\n",
      "Requirement already satisfied: urllib3<3,>=1.21.1 in c:\\tool\\anaconda\\lib\\site-packages (from requests<3.0.0,>=2.13.0->spacy<4.0,>=3.0->spacytextblob) (1.26.16)\n",
      "Requirement already satisfied: certifi>=2017.4.17 in c:\\tool\\anaconda\\lib\\site-packages (from requests<3.0.0,>=2.13.0->spacy<4.0,>=3.0->spacytextblob) (2023.7.22)\n",
      "Requirement already satisfied: blis<0.8.0,>=0.7.8 in c:\\tool\\anaconda\\lib\\site-packages (from thinc<8.3.0,>=8.2.2->spacy<4.0,>=3.0->spacytextblob) (0.7.11)\n",
      "Requirement already satisfied: confection<1.0.0,>=0.0.1 in c:\\tool\\anaconda\\lib\\site-packages (from thinc<8.3.0,>=8.2.2->spacy<4.0,>=3.0->spacytextblob) (0.1.4)\n",
      "Requirement already satisfied: colorama in c:\\tool\\anaconda\\lib\\site-packages (from tqdm<5.0.0,>=4.38.0->spacy<4.0,>=3.0->spacytextblob) (0.4.6)\n",
      "Requirement already satisfied: cloudpathlib<0.17.0,>=0.7.0 in c:\\tool\\anaconda\\lib\\site-packages (from weasel<0.4.0,>=0.1.0->spacy<4.0,>=3.0->spacytextblob) (0.16.0)\n"
     ]
    },
    {
     "name": "stderr",
     "output_type": "stream",
     "text": [
      "\n",
      "[notice] A new release of pip is available: 23.3.1 -> 24.0\n",
      "[notice] To update, run: python.exe -m pip install --upgrade pip\n"
     ]
    },
    {
     "name": "stdout",
     "output_type": "stream",
     "text": [
      "Requirement already satisfied: pandas in c:\\tool\\anaconda\\lib\\site-packages (2.0.3)\n",
      "Requirement already satisfied: python-dateutil>=2.8.2 in c:\\tool\\anaconda\\lib\\site-packages (from pandas) (2.8.2)\n",
      "Requirement already satisfied: pytz>=2020.1 in c:\\tool\\anaconda\\lib\\site-packages (from pandas) (2023.3.post1)\n",
      "Requirement already satisfied: tzdata>=2022.1 in c:\\tool\\anaconda\\lib\\site-packages (from pandas) (2023.3)\n",
      "Requirement already satisfied: numpy>=1.21.0 in c:\\tool\\anaconda\\lib\\site-packages (from pandas) (1.24.3)\n",
      "Requirement already satisfied: six>=1.5 in c:\\tool\\anaconda\\lib\\site-packages (from python-dateutil>=2.8.2->pandas) (1.16.0)\n"
     ]
    },
    {
     "name": "stderr",
     "output_type": "stream",
     "text": [
      "\n",
      "[notice] A new release of pip is available: 23.3.1 -> 24.0\n",
      "[notice] To update, run: python.exe -m pip install --upgrade pip\n"
     ]
    },
    {
     "name": "stdout",
     "output_type": "stream",
     "text": [
      "Requirement already satisfied: seaborn in c:\\tool\\anaconda\\lib\\site-packages (0.12.2)\n",
      "Requirement already satisfied: numpy!=1.24.0,>=1.17 in c:\\tool\\anaconda\\lib\\site-packages (from seaborn) (1.24.3)\n",
      "Requirement already satisfied: pandas>=0.25 in c:\\tool\\anaconda\\lib\\site-packages (from seaborn) (2.0.3)\n",
      "Requirement already satisfied: matplotlib!=3.6.1,>=3.1 in c:\\tool\\anaconda\\lib\\site-packages (from seaborn) (3.7.2)\n",
      "Requirement already satisfied: contourpy>=1.0.1 in c:\\tool\\anaconda\\lib\\site-packages (from matplotlib!=3.6.1,>=3.1->seaborn) (1.0.5)\n",
      "Requirement already satisfied: cycler>=0.10 in c:\\tool\\anaconda\\lib\\site-packages (from matplotlib!=3.6.1,>=3.1->seaborn) (0.11.0)\n",
      "Requirement already satisfied: fonttools>=4.22.0 in c:\\tool\\anaconda\\lib\\site-packages (from matplotlib!=3.6.1,>=3.1->seaborn) (4.25.0)\n",
      "Requirement already satisfied: kiwisolver>=1.0.1 in c:\\tool\\anaconda\\lib\\site-packages (from matplotlib!=3.6.1,>=3.1->seaborn) (1.4.4)\n",
      "Requirement already satisfied: packaging>=20.0 in c:\\tool\\anaconda\\lib\\site-packages (from matplotlib!=3.6.1,>=3.1->seaborn) (23.1)\n",
      "Requirement already satisfied: pillow>=6.2.0 in c:\\tool\\anaconda\\lib\\site-packages (from matplotlib!=3.6.1,>=3.1->seaborn) (9.4.0)\n",
      "Requirement already satisfied: pyparsing<3.1,>=2.3.1 in c:\\tool\\anaconda\\lib\\site-packages (from matplotlib!=3.6.1,>=3.1->seaborn) (3.0.9)\n",
      "Requirement already satisfied: python-dateutil>=2.7 in c:\\tool\\anaconda\\lib\\site-packages (from matplotlib!=3.6.1,>=3.1->seaborn) (2.8.2)\n",
      "Requirement already satisfied: pytz>=2020.1 in c:\\tool\\anaconda\\lib\\site-packages (from pandas>=0.25->seaborn) (2023.3.post1)\n",
      "Requirement already satisfied: tzdata>=2022.1 in c:\\tool\\anaconda\\lib\\site-packages (from pandas>=0.25->seaborn) (2023.3)\n",
      "Requirement already satisfied: six>=1.5 in c:\\tool\\anaconda\\lib\\site-packages (from python-dateutil>=2.7->matplotlib!=3.6.1,>=3.1->seaborn) (1.16.0)\n"
     ]
    },
    {
     "name": "stderr",
     "output_type": "stream",
     "text": [
      "\n",
      "[notice] A new release of pip is available: 23.3.1 -> 24.0\n",
      "[notice] To update, run: python.exe -m pip install --upgrade pip\n"
     ]
    },
    {
     "name": "stdout",
     "output_type": "stream",
     "text": [
      "Requirement already satisfied: matplotlib in c:\\tool\\anaconda\\lib\\site-packages (3.7.2)\n",
      "Requirement already satisfied: contourpy>=1.0.1 in c:\\tool\\anaconda\\lib\\site-packages (from matplotlib) (1.0.5)\n",
      "Requirement already satisfied: cycler>=0.10 in c:\\tool\\anaconda\\lib\\site-packages (from matplotlib) (0.11.0)\n",
      "Requirement already satisfied: fonttools>=4.22.0 in c:\\tool\\anaconda\\lib\\site-packages (from matplotlib) (4.25.0)\n",
      "Requirement already satisfied: kiwisolver>=1.0.1 in c:\\tool\\anaconda\\lib\\site-packages (from matplotlib) (1.4.4)\n",
      "Requirement already satisfied: numpy>=1.20 in c:\\tool\\anaconda\\lib\\site-packages (from matplotlib) (1.24.3)\n",
      "Requirement already satisfied: packaging>=20.0 in c:\\tool\\anaconda\\lib\\site-packages (from matplotlib) (23.1)\n",
      "Requirement already satisfied: pillow>=6.2.0 in c:\\tool\\anaconda\\lib\\site-packages (from matplotlib) (9.4.0)\n",
      "Requirement already satisfied: pyparsing<3.1,>=2.3.1 in c:\\tool\\anaconda\\lib\\site-packages (from matplotlib) (3.0.9)\n",
      "Requirement already satisfied: python-dateutil>=2.7 in c:\\tool\\anaconda\\lib\\site-packages (from matplotlib) (2.8.2)\n",
      "Requirement already satisfied: six>=1.5 in c:\\tool\\anaconda\\lib\\site-packages (from python-dateutil>=2.7->matplotlib) (1.16.0)\n"
     ]
    },
    {
     "name": "stderr",
     "output_type": "stream",
     "text": [
      "\n",
      "[notice] A new release of pip is available: 23.3.1 -> 24.0\n",
      "[notice] To update, run: python.exe -m pip install --upgrade pip\n"
     ]
    },
    {
     "name": "stdout",
     "output_type": "stream",
     "text": [
      "Collecting en-core-web-sm==3.7.1\n",
      "  Downloading https://github.com/explosion/spacy-models/releases/download/en_core_web_sm-3.7.1/en_core_web_sm-3.7.1-py3-none-any.whl (12.8 MB)\n",
      "     ---------------------------------------- 0.0/12.8 MB ? eta -:--:--\n",
      "     ---------------------------------------- 0.1/12.8 MB 2.2 MB/s eta 0:00:06\n",
      "     -- ------------------------------------- 0.8/12.8 MB 10.6 MB/s eta 0:00:02\n",
      "     ----- ---------------------------------- 1.8/12.8 MB 13.9 MB/s eta 0:00:01\n",
      "     -------- ------------------------------- 2.7/12.8 MB 15.9 MB/s eta 0:00:01\n",
      "     ------------ --------------------------- 3.9/12.8 MB 17.7 MB/s eta 0:00:01\n",
      "     -------------- ------------------------- 4.8/12.8 MB 17.9 MB/s eta 0:00:01\n",
      "     ----------------- ---------------------- 5.7/12.8 MB 18.2 MB/s eta 0:00:01\n",
      "     -------------------- ------------------- 6.7/12.8 MB 18.6 MB/s eta 0:00:01\n",
      "     ----------------------- ---------------- 7.7/12.8 MB 18.8 MB/s eta 0:00:01\n",
      "     -------------------------- ------------- 8.5/12.8 MB 18.7 MB/s eta 0:00:01\n",
      "     ----------------------------- ---------- 9.5/12.8 MB 19.0 MB/s eta 0:00:01\n",
      "     ------------------------------- ------- 10.3/12.8 MB 19.9 MB/s eta 0:00:01\n",
      "     ---------------------------------- ---- 11.2/12.8 MB 19.9 MB/s eta 0:00:01\n",
      "     ------------------------------------- - 12.2/12.8 MB 20.5 MB/s eta 0:00:01\n",
      "     --------------------------------------- 12.8/12.8 MB 19.8 MB/s eta 0:00:00\n",
      "Requirement already satisfied: spacy<3.8.0,>=3.7.2 in c:\\tool\\anaconda\\lib\\site-packages (from en-core-web-sm==3.7.1) (3.7.4)\n",
      "Requirement already satisfied: spacy-legacy<3.1.0,>=3.0.11 in c:\\tool\\anaconda\\lib\\site-packages (from spacy<3.8.0,>=3.7.2->en-core-web-sm==3.7.1) (3.0.12)\n",
      "Requirement already satisfied: spacy-loggers<2.0.0,>=1.0.0 in c:\\tool\\anaconda\\lib\\site-packages (from spacy<3.8.0,>=3.7.2->en-core-web-sm==3.7.1) (1.0.5)\n",
      "Requirement already satisfied: murmurhash<1.1.0,>=0.28.0 in c:\\tool\\anaconda\\lib\\site-packages (from spacy<3.8.0,>=3.7.2->en-core-web-sm==3.7.1) (1.0.10)\n",
      "Requirement already satisfied: cymem<2.1.0,>=2.0.2 in c:\\tool\\anaconda\\lib\\site-packages (from spacy<3.8.0,>=3.7.2->en-core-web-sm==3.7.1) (2.0.8)\n",
      "Requirement already satisfied: preshed<3.1.0,>=3.0.2 in c:\\tool\\anaconda\\lib\\site-packages (from spacy<3.8.0,>=3.7.2->en-core-web-sm==3.7.1) (3.0.9)\n",
      "Requirement already satisfied: thinc<8.3.0,>=8.2.2 in c:\\tool\\anaconda\\lib\\site-packages (from spacy<3.8.0,>=3.7.2->en-core-web-sm==3.7.1) (8.2.3)\n",
      "Requirement already satisfied: wasabi<1.2.0,>=0.9.1 in c:\\tool\\anaconda\\lib\\site-packages (from spacy<3.8.0,>=3.7.2->en-core-web-sm==3.7.1) (1.1.2)\n",
      "Requirement already satisfied: srsly<3.0.0,>=2.4.3 in c:\\tool\\anaconda\\lib\\site-packages (from spacy<3.8.0,>=3.7.2->en-core-web-sm==3.7.1) (2.4.8)\n",
      "Requirement already satisfied: catalogue<2.1.0,>=2.0.6 in c:\\tool\\anaconda\\lib\\site-packages (from spacy<3.8.0,>=3.7.2->en-core-web-sm==3.7.1) (2.0.10)\n",
      "Requirement already satisfied: weasel<0.4.0,>=0.1.0 in c:\\tool\\anaconda\\lib\\site-packages (from spacy<3.8.0,>=3.7.2->en-core-web-sm==3.7.1) (0.3.4)\n",
      "Requirement already satisfied: typer<0.10.0,>=0.3.0 in c:\\tool\\anaconda\\lib\\site-packages (from spacy<3.8.0,>=3.7.2->en-core-web-sm==3.7.1) (0.9.4)\n",
      "Requirement already satisfied: smart-open<7.0.0,>=5.2.1 in c:\\tool\\anaconda\\lib\\site-packages (from spacy<3.8.0,>=3.7.2->en-core-web-sm==3.7.1) (5.2.1)\n",
      "Requirement already satisfied: tqdm<5.0.0,>=4.38.0 in c:\\tool\\anaconda\\lib\\site-packages (from spacy<3.8.0,>=3.7.2->en-core-web-sm==3.7.1) (4.65.0)\n",
      "Requirement already satisfied: requests<3.0.0,>=2.13.0 in c:\\tool\\anaconda\\lib\\site-packages (from spacy<3.8.0,>=3.7.2->en-core-web-sm==3.7.1) (2.31.0)\n",
      "Requirement already satisfied: pydantic!=1.8,!=1.8.1,<3.0.0,>=1.7.4 in c:\\tool\\anaconda\\lib\\site-packages (from spacy<3.8.0,>=3.7.2->en-core-web-sm==3.7.1) (1.10.8)\n",
      "Requirement already satisfied: jinja2 in c:\\tool\\anaconda\\lib\\site-packages (from spacy<3.8.0,>=3.7.2->en-core-web-sm==3.7.1) (3.1.2)\n",
      "Requirement already satisfied: setuptools in c:\\tool\\anaconda\\lib\\site-packages (from spacy<3.8.0,>=3.7.2->en-core-web-sm==3.7.1) (68.0.0)\n",
      "Requirement already satisfied: packaging>=20.0 in c:\\tool\\anaconda\\lib\\site-packages (from spacy<3.8.0,>=3.7.2->en-core-web-sm==3.7.1) (23.1)\n",
      "Requirement already satisfied: langcodes<4.0.0,>=3.2.0 in c:\\tool\\anaconda\\lib\\site-packages (from spacy<3.8.0,>=3.7.2->en-core-web-sm==3.7.1) (3.3.0)\n",
      "Requirement already satisfied: numpy>=1.19.0 in c:\\tool\\anaconda\\lib\\site-packages (from spacy<3.8.0,>=3.7.2->en-core-web-sm==3.7.1) (1.24.3)\n",
      "Requirement already satisfied: typing-extensions>=4.2.0 in c:\\tool\\anaconda\\lib\\site-packages (from pydantic!=1.8,!=1.8.1,<3.0.0,>=1.7.4->spacy<3.8.0,>=3.7.2->en-core-web-sm==3.7.1) (4.11.0)\n",
      "Requirement already satisfied: charset-normalizer<4,>=2 in c:\\tool\\anaconda\\lib\\site-packages (from requests<3.0.0,>=2.13.0->spacy<3.8.0,>=3.7.2->en-core-web-sm==3.7.1) (2.0.4)\n",
      "Requirement already satisfied: idna<4,>=2.5 in c:\\tool\\anaconda\\lib\\site-packages (from requests<3.0.0,>=2.13.0->spacy<3.8.0,>=3.7.2->en-core-web-sm==3.7.1) (3.4)\n",
      "Requirement already satisfied: urllib3<3,>=1.21.1 in c:\\tool\\anaconda\\lib\\site-packages (from requests<3.0.0,>=2.13.0->spacy<3.8.0,>=3.7.2->en-core-web-sm==3.7.1) (1.26.16)\n",
      "Requirement already satisfied: certifi>=2017.4.17 in c:\\tool\\anaconda\\lib\\site-packages (from requests<3.0.0,>=2.13.0->spacy<3.8.0,>=3.7.2->en-core-web-sm==3.7.1) (2023.7.22)\n",
      "Requirement already satisfied: blis<0.8.0,>=0.7.8 in c:\\tool\\anaconda\\lib\\site-packages (from thinc<8.3.0,>=8.2.2->spacy<3.8.0,>=3.7.2->en-core-web-sm==3.7.1) (0.7.11)\n",
      "Requirement already satisfied: confection<1.0.0,>=0.0.1 in c:\\tool\\anaconda\\lib\\site-packages (from thinc<8.3.0,>=8.2.2->spacy<3.8.0,>=3.7.2->en-core-web-sm==3.7.1) (0.1.4)\n",
      "Requirement already satisfied: colorama in c:\\tool\\anaconda\\lib\\site-packages (from tqdm<5.0.0,>=4.38.0->spacy<3.8.0,>=3.7.2->en-core-web-sm==3.7.1) (0.4.6)\n",
      "Requirement already satisfied: click<9.0.0,>=7.1.1 in c:\\tool\\anaconda\\lib\\site-packages (from typer<0.10.0,>=0.3.0->spacy<3.8.0,>=3.7.2->en-core-web-sm==3.7.1) (8.0.4)\n",
      "Requirement already satisfied: cloudpathlib<0.17.0,>=0.7.0 in c:\\tool\\anaconda\\lib\\site-packages (from weasel<0.4.0,>=0.1.0->spacy<3.8.0,>=3.7.2->en-core-web-sm==3.7.1) (0.16.0)\n",
      "Requirement already satisfied: MarkupSafe>=2.0 in c:\\tool\\anaconda\\lib\\site-packages (from jinja2->spacy<3.8.0,>=3.7.2->en-core-web-sm==3.7.1) (2.1.1)\n",
      "\u001b[38;5;2m[+] Download and installation successful\u001b[0m\n",
      "You can now load the package via spacy.load('en_core_web_sm')\n"
     ]
    },
    {
     "name": "stderr",
     "output_type": "stream",
     "text": [
      "\n",
      "[notice] A new release of pip is available: 23.3.1 -> 24.0\n",
      "[notice] To update, run: python.exe -m pip install --upgrade pip\n"
     ]
    }
   ],
   "source": [
    "!pip install textblob\n",
    "!pip install googlemaps\n",
    "!pip install spacy\n",
    "!pip install nltk\n",
    "!pip install transformers \n",
    "!pip install pycorenlp\n",
    "!pip install flair\n",
    "!pip install torch torchvision\n",
    "!pip install torch spacytextblob\n",
    "!pip install pandas\n",
    "!pip install seaborn\n",
    "!pip install matplotlib\n",
    "!python -m spacy download en_core_web_sm"
   ]
  },
  {
   "cell_type": "markdown",
   "id": "20d9e0c9",
   "metadata": {},
   "source": [
    "# 1. import reviews\n",
    "### My Google API has expired, so I will just show you how to import the reviews; they will be imported manually."
   ]
  },
  {
   "cell_type": "code",
   "execution_count": 40,
   "id": "4e736174",
   "metadata": {},
   "outputs": [],
   "source": [
    "# this part is a example\n",
    "# import googlemaps\n",
    "\n",
    "# # Initialize with your API key\n",
    "# gmaps = googlemaps.Client(key='YOUR_API_KEY')\n",
    "\n",
    "# # Place ID for the restaurant\n",
    "# place_id = 'INSERT_PLACE_ID_HERE'\n",
    "\n",
    "# # Fetch the place details\n",
    "# place_result = gmaps.place(place_id=place_id)\n",
    "\n",
    "# # Extract reviews\n",
    "# reviews = place_result['result'].get('reviews', [])\n",
    "\n",
    "# for review in reviews:\n",
    "#     print(review['author_name'], review['rating'], review['text'])"
   ]
  },
  {
   "cell_type": "code",
   "execution_count": 41,
   "id": "b8646a51",
   "metadata": {},
   "outputs": [],
   "source": [
    "reviews = [\n",
    "    \"Cette adresse propose une sélection remarquable de plats indiens authentiques, avec un personnel bienveillant et efficace. Les prix sont compétitifs, l'ambiance conviviale. Une expérience à renouveler pour les amateurs de cuisine indienne.\",\n",
    "    \"Les Kulcha sont très bons! Les autres pas mal aussi.\",\n",
    "    \"La nourriture était très bonne mais le service de la dernière fois était catastrophique, avec un personnel ne parlant pas français, contrairement à une visite précédente.\",\n",
    "    \"Les ingrédients frais font la différence ici avec un service attentif. Agréablement surpris par la qualité de la nourriture et l'accueil.\",\n",
    "    \"Une mauvaise expérience. Tous les plats étaient incroyablement salés, à l'exception du pain nan. Le service principalement en anglais et une ambiance gâchée par une musique trop forte et une grande télé.\",\n",
    "    \"La nourriture est bonne et chaude, le menu diversifié et le personnel courtois. Recommandé pour un mélange d'ambiance 'fast food' et salle à manger traditionnelle.\",\n",
    "    \"La nourriture est intéressante mais ultra piquante, même pour les options 'not spicy'. Le nan est excellent.\",\n",
    "    \"Bonne bouffe, serveur souriant et bon service, malgré un manque de service en français et un temps d'attente long avec peu de clients.\",\n",
    "    \"Le système de son était défectueux, musique très forte, commande incorrecte et excessive attente. La nourriture était brûlée et a fini à la poubelle.\",\n",
    "    \"Les plats étaient délicieux et savoureux, beau choix de pains. La musique un peu forte mais service bilingue avec accueil et au revoir en français.\"\n",
    "]\n",
    "\n",
    "sentiments_humain = [\n",
    "    \"POSITIVE\",  # Review 1 (Ratings: Cuisine 5, Service 5, Ambiance 5)\n",
    "    \"POSITIVE\",  # Review 2 (Ratings: Cuisine 5, Service 4, Ambiance 4)\n",
    "    \"NEUTRAL\",   # Review 3 (Ratings: Cuisine 5, Service 1, Ambiance 3)\n",
    "    \"POSITIVE\",  # Review 4 (Ratings: Cuisine 5, Service 5, Ambiance 4)\n",
    "    \"NEGATIVE\",  # Review 5 (Ratings: Cuisine 1, Service 1, Ambiance 2)\n",
    "    \"POSITIVE\",  # Review 6 (No specific ratings but positive feedback)\n",
    "    \"POSITIVE\",  # Review 7 (No specific ratings but feedback implies overall positive despite spicy food)\n",
    "    \"POSITIVE\",  # Review 8 (Ratings: Cuisine 5, Service 4, Ambiance 4)\n",
    "    \"NEGATIVE\",  # Review 9 (Ratings: Cuisine 1, Service 1, Ambiance 1)\n",
    "    \"POSITIVE\"   # Review 10 (Ratings: Cuisine 5, Service 4, Ambiance 4)\n",
    "]"
   ]
  },
  {
   "cell_type": "markdown",
   "id": "86a34259",
   "metadata": {},
   "source": [
    "___\n",
    "___\n",
    "\n",
    "# 2. Models\n",
    "\n",
    "- textblob\n",
    "- nltk\n",
    "- spacy\n",
    "- transformers\n",
    "- flair\n"
   ]
  },
  {
   "cell_type": "code",
   "execution_count": 42,
   "id": "1936666e",
   "metadata": {},
   "outputs": [
    {
     "name": "stdout",
     "output_type": "stream",
     "text": [
      "Review: Cette adresse propose une sélection remarquable de plats ind... | Sentiment: NEUTRAL\n",
      "Review: Les Kulcha sont très bons! Les autres pas mal aussi.... | Sentiment: NEUTRAL\n",
      "Review: La nourriture était très bonne mais le service de la dernièr... | Sentiment: NEUTRAL\n",
      "Review: Les ingrédients frais font la différence ici avec un service... | Sentiment: NEUTRAL\n",
      "Review: Une mauvaise expérience. Tous les plats étaient incroyableme... | Sentiment: NEUTRAL\n",
      "Review: La nourriture est bonne et chaude, le menu diversifié et le ... | Sentiment: POSITIVE\n",
      "Review: La nourriture est intéressante mais ultra piquante, même pou... | Sentiment: POSITIVE\n",
      "Review: Bonne bouffe, serveur souriant et bon service, malgré un man... | Sentiment: NEUTRAL\n",
      "Review: Le système de son était défectueux, musique très forte, comm... | Sentiment: NEGATIVE\n",
      "Review: Les plats étaient délicieux et savoureux, beau choix de pain... | Sentiment: NEUTRAL\n"
     ]
    }
   ],
   "source": [
    "from textblob import TextBlob\n",
    "\n",
    "# Function to determine sentiment\n",
    "def get_sentiment(text):\n",
    "    analysis = TextBlob(text)\n",
    "    if analysis.sentiment.polarity > 0.1:\n",
    "        return 'POSITIVE'\n",
    "    elif analysis.sentiment.polarity < -0.1:\n",
    "        return 'NEGATIVE'\n",
    "    else:\n",
    "        return 'NEUTRAL'\n",
    "\n",
    "# Analyzing each review\n",
    "sentiments_textblob = []\n",
    "for review in reviews:\n",
    "    sentiment_textblob = get_sentiment(review)\n",
    "    sentiments_textblob.append(sentiment_textblob)\n",
    "    print(f\"Review: {review[:60]}... | Sentiment: {sentiment_textblob}\")"
   ]
  },
  {
   "cell_type": "code",
   "execution_count": 43,
   "id": "d70e6920",
   "metadata": {},
   "outputs": [
    {
     "name": "stdout",
     "output_type": "stream",
     "text": [
      "Review: Cette adresse propose une sélection remarquable de plats ind... | Sentiment: NEUTRAL\n",
      "Review: Les Kulcha sont très bons! Les autres pas mal aussi.... | Sentiment: NEUTRAL\n",
      "Review: La nourriture était très bonne mais le service de la dernièr... | Sentiment: NEUTRAL\n",
      "Review: Les ingrédients frais font la différence ici avec un service... | Sentiment: NEUTRAL\n",
      "Review: Une mauvaise expérience. Tous les plats étaient incroyableme... | Sentiment: NEGATIVE\n",
      "Review: La nourriture est bonne et chaude, le menu diversifié et le ... | Sentiment: NEUTRAL\n",
      "Review: La nourriture est intéressante mais ultra piquante, même pou... | Sentiment: POSITIVE\n",
      "Review: Bonne bouffe, serveur souriant et bon service, malgré un man... | Sentiment: NEUTRAL\n",
      "Review: Le système de son était défectueux, musique très forte, comm... | Sentiment: NEUTRAL\n",
      "Review: Les plats étaient délicieux et savoureux, beau choix de pain... | Sentiment: NEGATIVE\n"
     ]
    },
    {
     "name": "stderr",
     "output_type": "stream",
     "text": [
      "[nltk_data] Downloading package vader_lexicon to\n",
      "[nltk_data]     C:\\Users\\lyon\\AppData\\Roaming\\nltk_data...\n",
      "[nltk_data]   Package vader_lexicon is already up-to-date!\n"
     ]
    }
   ],
   "source": [
    "import nltk\n",
    "from nltk.sentiment import SentimentIntensityAnalyzer\n",
    "\n",
    "# Download the VADER lexicon\n",
    "nltk.download('vader_lexicon')\n",
    "\n",
    "\n",
    "\n",
    "# Initialize the VADER sentiment analyzer\n",
    "sia = SentimentIntensityAnalyzer()\n",
    "\n",
    "# Analyzing each review\n",
    "sentiments_nltk = []\n",
    "for review in reviews:\n",
    "    scores = sia.polarity_scores(review)\n",
    "    sentiment_nltk = 'POSITIVE' if scores['compound'] > 0.05 else 'NEGATIVE' if scores['compound'] < -0.05 else 'NEUTRAL'\n",
    "    sentiments_nltk.append(sentiment_nltk)\n",
    "    print(f\"Review: {review[:60]}... | Sentiment: {sentiment_nltk}\")"
   ]
  },
  {
   "cell_type": "code",
   "execution_count": 44,
   "id": "3f7d7986",
   "metadata": {},
   "outputs": [
    {
     "name": "stdout",
     "output_type": "stream",
     "text": [
      "Review: Cette adresse propose une sélection remarquable de plats ind... | Sentiment: NEUTRAL\n",
      "Review: Les Kulcha sont très bons! Les autres pas mal aussi.... | Sentiment: NEUTRAL\n",
      "Review: La nourriture était très bonne mais le service de la dernièr... | Sentiment: NEUTRAL\n",
      "Review: Les ingrédients frais font la différence ici avec un service... | Sentiment: NEUTRAL\n",
      "Review: Une mauvaise expérience. Tous les plats étaient incroyableme... | Sentiment: NEUTRAL\n",
      "Review: La nourriture est bonne et chaude, le menu diversifié et le ... | Sentiment: POSITIVE\n",
      "Review: La nourriture est intéressante mais ultra piquante, même pou... | Sentiment: POSITIVE\n",
      "Review: Bonne bouffe, serveur souriant et bon service, malgré un man... | Sentiment: NEUTRAL\n",
      "Review: Le système de son était défectueux, musique très forte, comm... | Sentiment: NEGATIVE\n",
      "Review: Les plats étaient délicieux et savoureux, beau choix de pain... | Sentiment: NEUTRAL\n"
     ]
    }
   ],
   "source": [
    "import spacy\n",
    "from spacytextblob.spacytextblob import SpacyTextBlob\n",
    "\n",
    "\n",
    "\n",
    "nlp = spacy.load('en_core_web_sm')\n",
    "nlp.add_pipe('spacytextblob')\n",
    "\n",
    "sentiments_spacy = []\n",
    "for review in reviews:\n",
    "    doc = nlp(review)\n",
    "    sentiment_spacy = 'POSITIVE' if doc._.polarity > 0.05 else 'NEGATIVE' if doc._.polarity < -0.05 else 'NEUTRAL'\n",
    "    sentiments_spacy.append(sentiment_spacy)\n",
    "    print(f\"Review: {review[:60]}... | Sentiment: {sentiment_spacy}\")"
   ]
  },
  {
   "cell_type": "code",
   "execution_count": 45,
   "id": "3e5f4817",
   "metadata": {},
   "outputs": [
    {
     "name": "stdout",
     "output_type": "stream",
     "text": [
      "Review: Cette adresse propose une sélection remarquable de plats ind... | Sentiment: POSITIVE\n",
      "Review: Les Kulcha sont très bons! Les autres pas mal aussi.... | Sentiment: NEGATIVE\n",
      "Review: La nourriture était très bonne mais le service de la dernièr... | Sentiment: NEGATIVE\n",
      "Review: Les ingrédients frais font la différence ici avec un service... | Sentiment: NEGATIVE\n",
      "Review: Une mauvaise expérience. Tous les plats étaient incroyableme... | Sentiment: POSITIVE\n",
      "Review: La nourriture est bonne et chaude, le menu diversifié et le ... | Sentiment: POSITIVE\n",
      "Review: La nourriture est intéressante mais ultra piquante, même pou... | Sentiment: POSITIVE\n",
      "Review: Bonne bouffe, serveur souriant et bon service, malgré un man... | Sentiment: POSITIVE\n",
      "Review: Le système de son était défectueux, musique très forte, comm... | Sentiment: NEGATIVE\n",
      "Review: Les plats étaient délicieux et savoureux, beau choix de pain... | Sentiment: POSITIVE\n"
     ]
    }
   ],
   "source": [
    "from transformers import pipeline\n",
    "import torch\n",
    "\n",
    "classifier = pipeline('sentiment-analysis')\n",
    "\n",
    "sentiments_transformers = []\n",
    "for review in reviews:\n",
    "    result = classifier(review)\n",
    "    sentiment_transformers = result[0]['label']\n",
    "    sentiments_transformers.append(sentiment_transformers)\n",
    "    print(f\"Review: {review[:60]}... | Sentiment: {sentiment_transformers}\")"
   ]
  },
  {
   "cell_type": "code",
   "execution_count": 46,
   "id": "7526d507",
   "metadata": {},
   "outputs": [
    {
     "name": "stdout",
     "output_type": "stream",
     "text": [
      "Review: Cette adresse propose une sélection remarquable de plats ind... | Sentiment: POSITIVE\n",
      "Review: Les Kulcha sont très bons! Les autres pas mal aussi.... | Sentiment: POSITIVE\n",
      "Review: La nourriture était très bonne mais le service de la dernièr... | Sentiment: NEGATIVE\n",
      "Review: Les ingrédients frais font la différence ici avec un service... | Sentiment: POSITIVE\n",
      "Review: Une mauvaise expérience. Tous les plats étaient incroyableme... | Sentiment: POSITIVE\n",
      "Review: La nourriture est bonne et chaude, le menu diversifié et le ... | Sentiment: POSITIVE\n",
      "Review: La nourriture est intéressante mais ultra piquante, même pou... | Sentiment: POSITIVE\n",
      "Review: Bonne bouffe, serveur souriant et bon service, malgré un man... | Sentiment: POSITIVE\n",
      "Review: Le système de son était défectueux, musique très forte, comm... | Sentiment: NEGATIVE\n",
      "Review: Les plats étaient délicieux et savoureux, beau choix de pain... | Sentiment: POSITIVE\n"
     ]
    }
   ],
   "source": [
    "from flair.models import TextClassifier\n",
    "from flair.data import Sentence\n",
    "import torch\n",
    "\n",
    "classifier = TextClassifier.load('en-sentiment')\n",
    "\n",
    "sentiments_flair = []\n",
    "for review in reviews:\n",
    "    sentence = Sentence(review)\n",
    "    classifier.predict(sentence)\n",
    "    sentiment_flair = sentence.labels[0].value\n",
    "    sentiments_flair.append(sentiment_flair)\n",
    "    print(f\"Review: {review[:60]}... | Sentiment: {sentiment_flair}\")"
   ]
  },
  {
   "cell_type": "markdown",
   "id": "816424a0",
   "metadata": {},
   "source": [
    "___\n",
    "___\n",
    "\n",
    "# 3. Comparison of results"
   ]
  },
  {
   "cell_type": "code",
   "execution_count": 47,
   "id": "235112ba",
   "metadata": {},
   "outputs": [],
   "source": [
    "def calculate_accuracy(predicted, correct):\n",
    "    correct_count = sum(1 for x, y in zip(predicted, correct) if x == y)\n",
    "    total = len(correct)\n",
    "    accuracy = correct_count / total\n",
    "    return accuracy * 100"
   ]
  },
  {
   "cell_type": "code",
   "execution_count": 48,
   "id": "ac3d34a9",
   "metadata": {},
   "outputs": [
    {
     "data": {
      "text/html": [
       "<div>\n",
       "<style scoped>\n",
       "    .dataframe tbody tr th:only-of-type {\n",
       "        vertical-align: middle;\n",
       "    }\n",
       "\n",
       "    .dataframe tbody tr th {\n",
       "        vertical-align: top;\n",
       "    }\n",
       "\n",
       "    .dataframe thead th {\n",
       "        text-align: right;\n",
       "    }\n",
       "</style>\n",
       "<table border=\"1\" class=\"dataframe\">\n",
       "  <thead>\n",
       "    <tr style=\"text-align: right;\">\n",
       "      <th></th>\n",
       "      <th>Accuracy</th>\n",
       "    </tr>\n",
       "  </thead>\n",
       "  <tbody>\n",
       "    <tr>\n",
       "      <th>textblob</th>\n",
       "      <td>40.0</td>\n",
       "    </tr>\n",
       "    <tr>\n",
       "      <th>nltk</th>\n",
       "      <td>30.0</td>\n",
       "    </tr>\n",
       "    <tr>\n",
       "      <th>spacy</th>\n",
       "      <td>40.0</td>\n",
       "    </tr>\n",
       "    <tr>\n",
       "      <th>transformers</th>\n",
       "      <td>60.0</td>\n",
       "    </tr>\n",
       "    <tr>\n",
       "      <th>flair</th>\n",
       "      <td>80.0</td>\n",
       "    </tr>\n",
       "  </tbody>\n",
       "</table>\n",
       "</div>"
      ],
      "text/plain": [
       "              Accuracy\n",
       "textblob          40.0\n",
       "nltk              30.0\n",
       "spacy             40.0\n",
       "transformers      60.0\n",
       "flair             80.0"
      ]
     },
     "metadata": {},
     "output_type": "display_data"
    },
    {
     "data": {
      "image/png": "[encoded data removed]",
      "text/plain": [
       "<Figure size 640x480 with 1 Axes>"
      ]
     },
     "metadata": {},
     "output_type": "display_data"
    }
   ],
   "source": [
    "import pandas as pd\n",
    "import seaborn as sns\n",
    "import matplotlib.pyplot as plt\n",
    "\n",
    "# Resultat for Visual Comparison\n",
    "accu_dict = {}\n",
    "\n",
    "\n",
    "\n",
    "# Append accuracy percentage for visual comparison\n",
    "accu_dict[\"textblob\"] = calculate_accuracy(sentiments_textblob, sentiments_humain)\n",
    "accu_dict[\"nltk\"] = calculate_accuracy(sentiments_nltk, sentiments_humain)\n",
    "accu_dict[\"spacy\"] = calculate_accuracy(sentiments_spacy, sentiments_humain)\n",
    "accu_dict[\"transformers\"] = calculate_accuracy(sentiments_transformers, sentiments_humain)\n",
    "accu_dict[\"flair\"] = calculate_accuracy(sentiments_flair, sentiments_humain)\n",
    "\n",
    "df_accu = pd.DataFrame.from_dict(accu_dict, orient='index', columns=['Accuracy'])\n",
    "display(df_accu)\n",
    "\n",
    "sns.set_color_codes(\"muted\")\n",
    "sns.barplot(data=df_accu, x=\"Accuracy\", y=df_accu.index, color=\"b\")\n",
    "\n",
    "plt.xlabel('Accuracy %')\n",
    "plt.title('Model Accuracy')\n",
    "plt.savefig('_AllAccuracy.png')\n",
    "plt.show()"
   ]
  },
  {
   "cell_type": "code",
   "execution_count": null,
   "id": "d2b6d483",
   "metadata": {},
   "outputs": [],
   "source": []
  }
 ],
 "metadata": {
  "kernelspec": {
   "display_name": "Python 3 (ipykernel)",
   "language": "python",
   "name": "python3"
  },
  "language_info": {
   "codemirror_mode": {
    "name": "ipython",
    "version": 3
   },
   "file_extension": ".py",
   "mimetype": "text/x-python",
   "name": "python",
   "nbconvert_exporter": "python",
   "pygments_lexer": "ipython3",
   "version": "3.11.5"
  }
 },
 "nbformat": 4,
 "nbformat_minor": 5
}
